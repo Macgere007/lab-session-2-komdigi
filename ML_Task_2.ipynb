{
  "cells": [
    {
      "cell_type": "code",
      "execution_count": 1,
      "metadata": {
        "id": "mN8x8DPgu9Kv"
      },
      "outputs": [],
      "source": [
        "!pip install -q -U google-generativeai"
      ]
    },
    {
      "cell_type": "code",
      "execution_count": 2,
      "metadata": {
        "id": "0x3xmmWrDtEH"
      },
      "outputs": [],
      "source": [
        "import google.generativeai as genai\n",
        "from IPython.display import Markdown"
      ]
    },
    {
      "cell_type": "code",
      "execution_count": 3,
      "metadata": {
        "id": "d6lYXRcjthKV"
      },
      "outputs": [],
      "source": [
        "from google.colab import userdata\n",
        "GOOGLE_API_KEY=userdata.get('GOOGLE_API_KEY')\n",
        "\n",
        "genai.configure(api_key=GOOGLE_API_KEY)"
      ]
    },
    {
      "cell_type": "code",
      "execution_count": 6,
      "metadata": {
        "id": "aa9a0e452544",
        "colab": {
          "base_uri": "https://localhost:8080/",
          "height": 774
        },
        "outputId": "1a09f3f4-7549-4832-99f2-e7f7562318fe"
      },
      "outputs": [
        {
          "output_type": "execute_result",
          "data": {
            "text/plain": [
              "<IPython.core.display.Markdown object>"
            ],
            "text/markdown": ">```json\n[\n  {\n    \"plat\": \"IT20 BOM\",\n    \"vehicle\": \"Citroen C3 Picasso\",\n    \"vehicle_type\": \"MPV\",\n    \"color\": \"red\",\n    \"gate_open\": \"N/A\",\n    \"gate_closed\": \"N/A\"\n  },\n  {\n    \"plat\": \"B 1963 SSJ\",\n    \"vehicle\": \"Hyundai Ioniq 6\",\n    \"vehicle_type\": \"Sedan\",\n    \"color\": \"black\",\n    \"gate_open\": \"N/A\",\n    \"gate_closed\": \"N/A\"\n  },\n  {\n    \"plat\": \"BP 1323 ZI\",\n    \"vehicle\": \"Toyota Corolla\",\n    \"vehicle_type\": \"Sedan\",\n    \"color\": \"silver\",\n    \"gate_open\": \"N/A\",\n    \"gate_closed\": \"N/A\"\n  },\n  {\n    \"plat\": \"B 1895 WZJ\",\n    \"vehicle\": \"Toyota Agya\",\n    \"vehicle_type\": \"Hatchback\",\n    \"color\": \"white\",\n    \"gate_open\": \"N/A\",\n    \"gate_closed\": \"N/A\"\n  },\n  {\n    \"plat\": \"B 1472 PQH\",\n    \"vehicle\": \"Toyota Fortuner\",\n    \"vehicle_type\": \"SUV\",\n    \"color\": \"black\",\n    \"gate_open\": \"N/A\",\n    \"gate_closed\": \"N/A\"\n  }\n]\n```"
          },
          "metadata": {},
          "execution_count": 6
        }
      ],
      "source": [
        "import httpx\n",
        "import base64\n",
        "\n",
        "# Retrieve an image\n",
        "image_path = \"https://th.bing.com/th/id/OIP.gzHi7mGC-ZoHCn2kx4L0ewAAAA?rs=1&pid=ImgDetMain\"\n",
        "image_path_2 = \"https://kelistrikan.com/wp-content/uploads/2023/12/Plat-Mobil-Listrik.jpg\"\n",
        "image_path_3 = \"https://hmstimes.com/wp-content/uploads/2022/10/Kendaraan-dengan-Tanda-Nomor-Kendaraan-Bermotor-TNKB-warna-hijau-dengan-tulisan-hitam-di-Batam.jpg\"\n",
        "image_path_4 = \"https://i.ytimg.com/vi/QUkd2UkvJgw/maxresdefault.jpg\"\n",
        "image_path_5 =\"https://blue.kumparan.com/image/upload/fl_progressive,fl_lossy,c_fill,q_auto:best,w_640/v1506912197/b5mrhhwjlp7lrudti9dm.jpg\"\n",
        "\n",
        "image = httpx.get(image_path)\n",
        "image_2 = httpx.get(image_path_2)\n",
        "image_3 = httpx.get(image_path_3)\n",
        "image_4 = httpx.get(image_path_4)\n",
        "image_5 = httpx.get(image_path_5)\n",
        "\n",
        "\n",
        "# Choose a Gemini model\n",
        "model = genai.GenerativeModel(model_name=\"gemini-1.5-pro\")\n",
        "\n",
        "# Create a prompt\n",
        "prompt = \"Parse the number of plat, vehicle, vehicle type, color, gate_open, gate_closed in this image in JSON format. for the gate_open and gate_closed attribute when none is N/A\"\n",
        "response = model.generate_content(\n",
        "    [\n",
        "        { \"mime_type\": \"image/jpeg\", \"data\": base64.b64encode(image.content).decode(\"utf-8\"), },\n",
        "        { \"mime_type\": \"image/jpeg\", \"data\": base64.b64encode(image_2.content).decode(\"utf-8\"), },\n",
        "        { \"mime_type\": \"image/jpeg\", \"data\": base64.b64encode(image_3.content).decode(\"utf-8\"), },\n",
        "        { \"mime_type\": \"image/jpeg\", \"data\": base64.b64encode(image_4.content).decode(\"utf-8\"), },\n",
        "        { \"mime_type\": \"image/jpeg\", \"data\": base64.b64encode(image_5.content).decode(\"utf-8\"), },\n",
        "        prompt,\n",
        "    ]\n",
        ")\n",
        "\n",
        "Markdown(\">\" + response.text)"
      ]
    }
  ],
  "metadata": {
    "colab": {
      "provenance": [],
      "collapsed_sections": [
        "8336e412da3e",
        "f47333dabe62"
      ]
    },
    "kernelspec": {
      "display_name": "Python 3",
      "name": "python3"
    }
  },
  "nbformat": 4,
  "nbformat_minor": 0
}